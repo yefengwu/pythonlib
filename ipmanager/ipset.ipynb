{
 "cells": [
  {
   "cell_type": "code",
   "execution_count": 1,
   "metadata": {},
   "outputs": [
    {
     "ename": "AttributeError",
     "evalue": "'snicstats' object has no attribute 'gateway'",
     "output_type": "error",
     "traceback": [
      "\u001b[1;31m---------------------------------------------------------------------------\u001b[0m",
      "\u001b[1;31mAttributeError\u001b[0m                            Traceback (most recent call last)",
      "Cell \u001b[1;32mIn[1], line 31\u001b[0m\n\u001b[0;32m     28\u001b[0m     \u001b[39mreturn\u001b[39;00m network_info\n\u001b[0;32m     30\u001b[0m \u001b[39m# 获取所有网卡信息并临时保存\u001b[39;00m\n\u001b[1;32m---> 31\u001b[0m network_info \u001b[39m=\u001b[39m get_all_network_info()\n\u001b[0;32m     33\u001b[0m \u001b[39m# 打印所有网卡信息\u001b[39;00m\n\u001b[0;32m     34\u001b[0m \u001b[39mfor\u001b[39;00m interface, info \u001b[39min\u001b[39;00m network_info\u001b[39m.\u001b[39mitems():\n",
      "Cell \u001b[1;32mIn[1], line 21\u001b[0m, in \u001b[0;36mget_all_network_info\u001b[1;34m()\u001b[0m\n\u001b[0;32m     18\u001b[0m                 \u001b[39mbreak\u001b[39;00m\n\u001b[0;32m     20\u001b[0m         \u001b[39mif\u001b[39;00m interface \u001b[39min\u001b[39;00m net_stats:\n\u001b[1;32m---> 21\u001b[0m             gateway \u001b[39m=\u001b[39m net_stats[interface]\u001b[39m.\u001b[39;49mgateway\n\u001b[0;32m     23\u001b[0m         network_info[interface] \u001b[39m=\u001b[39m {\n\u001b[0;32m     24\u001b[0m             \u001b[39m\"\u001b[39m\u001b[39mipv4\u001b[39m\u001b[39m\"\u001b[39m: ipv4,\n\u001b[0;32m     25\u001b[0m             \u001b[39m\"\u001b[39m\u001b[39mgateway\u001b[39m\u001b[39m\"\u001b[39m: gateway\n\u001b[0;32m     26\u001b[0m         }\n\u001b[0;32m     28\u001b[0m \u001b[39mreturn\u001b[39;00m network_info\n",
      "\u001b[1;31mAttributeError\u001b[0m: 'snicstats' object has no attribute 'gateway'"
     ]
    }
   ],
   "source": [
    "import psutil\n",
    "import socket\n",
    "\n",
    "def get_all_network_info():\n",
    "    net_addrs = psutil.net_if_addrs()\n",
    "    net_stats = psutil.net_if_stats()\n",
    "\n",
    "    network_info = {}\n",
    "\n",
    "    for interface in net_addrs.keys():\n",
    "        if interface in net_stats:\n",
    "            ipv4 = None\n",
    "            gateway = None\n",
    "\n",
    "            for addr in net_addrs[interface]:\n",
    "                if addr.family == socket.AF_INET:\n",
    "                    ipv4 = addr.address\n",
    "                    break\n",
    "\n",
    "            if interface in net_stats:\n",
    "                gateway = net_stats[interface].gateway\n",
    "\n",
    "            network_info[interface] = {\n",
    "                \"ipv4\": ipv4,\n",
    "                \"gateway\": gateway\n",
    "            }\n",
    "\n",
    "    return network_info\n",
    "\n",
    "# 获取所有网卡信息并临时保存\n",
    "network_info = get_all_network_info()\n",
    "\n",
    "# 打印所有网卡信息\n",
    "for interface, info in network_info.items():\n",
    "    print(\"Interface:\", interface)\n",
    "    print(\"IPv4 Address:\", info[\"ipv4\"])\n",
    "    print(\"Gateway:\", info[\"gateway\"])\n",
    "    print()"
   ]
  }
 ],
 "metadata": {
  "kernelspec": {
   "display_name": "base",
   "language": "python",
   "name": "python3"
  },
  "language_info": {
   "codemirror_mode": {
    "name": "ipython",
    "version": 3
   },
   "file_extension": ".py",
   "mimetype": "text/x-python",
   "name": "python",
   "nbconvert_exporter": "python",
   "pygments_lexer": "ipython3",
   "version": "3.11.5"
  },
  "orig_nbformat": 4
 },
 "nbformat": 4,
 "nbformat_minor": 2
}
