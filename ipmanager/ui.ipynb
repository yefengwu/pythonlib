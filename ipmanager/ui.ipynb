{
 "cells": [
  {
   "cell_type": "code",
   "execution_count": 2,
   "metadata": {},
   "outputs": [
    {
     "ename": "RuntimeError",
     "evalue": "Please destroy the QApplication singleton before creating a new QApplication instance.",
     "output_type": "error",
     "traceback": [
      "\u001b[1;31m---------------------------------------------------------------------------\u001b[0m",
      "\u001b[1;31mRuntimeError\u001b[0m                              Traceback (most recent call last)",
      "Cell \u001b[1;32mIn[2], line 33\u001b[0m\n\u001b[0;32m     29\u001b[0m         \u001b[39mself\u001b[39m\u001b[39m.\u001b[39mresize(\u001b[39m500\u001b[39m, \u001b[39m500\u001b[39m)\n\u001b[0;32m     32\u001b[0m \u001b[39mif\u001b[39;00m \u001b[39m__name__\u001b[39m \u001b[39m==\u001b[39m \u001b[39m'\u001b[39m\u001b[39m__main__\u001b[39m\u001b[39m'\u001b[39m:\n\u001b[1;32m---> 33\u001b[0m     app \u001b[39m=\u001b[39m QApplication(sys\u001b[39m.\u001b[39;49margv)\n\u001b[0;32m     34\u001b[0m     w \u001b[39m=\u001b[39m Demo()\n\u001b[0;32m     35\u001b[0m     w\u001b[39m.\u001b[39mshow()\n",
      "\u001b[1;31mRuntimeError\u001b[0m: Please destroy the QApplication singleton before creating a new QApplication instance."
     ]
    }
   ],
   "source": [
    "# coding:utf-8\n",
    "import sys\n",
    "\n",
    "from PySide6.QtCore import Qt, QCalendar, QDate\n",
    "from PySide6.QtWidgets import QApplication, QWidget, QHBoxLayout\n",
    "\n",
    "from qfluentwidgets import CalendarPicker, setTheme, Theme\n",
    "\n",
    "\n",
    "class Demo(QWidget):\n",
    "\n",
    "    def __init__(self):\n",
    "        super().__init__()\n",
    "        # setTheme(Theme.DARK)\n",
    "        self.setStyleSheet('Demo{background: white}')\n",
    "\n",
    "        self.picker = CalendarPicker(self)\n",
    "        self.picker.dateChanged.connect(print)\n",
    "\n",
    "        # set date\n",
    "        # self.picker.setDate(QDate(2023, 5, 30))\n",
    "\n",
    "        # customize date format\n",
    "        # self.picker.setDateFormat(Qt.TextDate)\n",
    "        # self.picker.setDateFormat('yyyy-M-d')\n",
    "\n",
    "        self.hBoxLayout = QHBoxLayout(self)\n",
    "        self.hBoxLayout.addWidget(self.picker, 0, Qt.AlignCenter) # type: ignore\n",
    "        self.resize(500, 500)\n",
    "\n",
    "\n",
    "if __name__ == '__main__':\n",
    "    app = QApplication(sys.argv)\n",
    "    w = Demo()\n",
    "    w.show()\n",
    "    app.exec()"
   ]
  }
 ],
 "metadata": {
  "kernelspec": {
   "display_name": "base",
   "language": "python",
   "name": "python3"
  },
  "language_info": {
   "codemirror_mode": {
    "name": "ipython",
    "version": 3
   },
   "file_extension": ".py",
   "mimetype": "text/x-python",
   "name": "python",
   "nbconvert_exporter": "python",
   "pygments_lexer": "ipython3",
   "version": "3.9.5"
  },
  "orig_nbformat": 4
 },
 "nbformat": 4,
 "nbformat_minor": 2
}
